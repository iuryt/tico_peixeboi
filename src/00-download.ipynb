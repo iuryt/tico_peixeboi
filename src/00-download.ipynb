{
 "cells": [
  {
   "cell_type": "code",
   "execution_count": 4,
   "id": "12c8b90d-6083-4a67-b9d8-5015be015a7f",
   "metadata": {},
   "outputs": [
    {
     "name": "stdout",
     "output_type": "stream",
     "text": [
      "EDL_USERNAME and EDL_PASSWORD are not set in the current environment, try setting them or use a different strategy (netrc, interactive)\n",
      "You're now authenticated with NASA Earthdata Login\n",
      "Using token with expiration date: 05/19/2023\n",
      "Using .netrc file for EDL\n"
     ]
    }
   ],
   "source": [
    "from glob import glob\n",
    "from earthaccess import Auth, DataCollections, DataGranules, Store\n",
    "\n",
    "auth = Auth()\n",
    "auth.login(strategy=\"environment\")\n",
    "# are we authenticated?\n",
    "if not auth.authenticated:\n",
    "    auth.login(strategy=\"netrc\")"
   ]
  },
  {
   "cell_type": "code",
   "execution_count": 47,
   "id": "dad91d09-1700-4e48-a283-c35f2f234d7b",
   "metadata": {},
   "outputs": [
    {
     "name": "stdout",
     "output_type": "stream",
     "text": [
      "Granules found: 143\n"
     ]
    }
   ],
   "source": [
    "results = earthaccess.search_data(\n",
    "    short_name = \"SMAP_JPL_L3_SSS_CAP_8DAY-RUNNINGMEAN_V5\",\n",
    "    cloud_hosted = True, \n",
    "    bounding_box = (-65.5,-30,-5.5,15),\n",
    "    temporal = (\"2022-06\", \"2022-10-15\"),\n",
    "    count = 200\n",
    ")"
   ]
  },
  {
   "cell_type": "code",
   "execution_count": 50,
   "id": "490578a4-d64f-43aa-813f-c8b352b3f257",
   "metadata": {},
   "outputs": [
    {
     "name": "stdout",
     "output_type": "stream",
     "text": [
      " Getting 143 granules, approx download size: 1.1 GB\n"
     ]
    },
    {
     "data": {
      "application/vnd.jupyter.widget-view+json": {
       "model_id": "78d46389e7e14f378444995d3093be56",
       "version_major": 2,
       "version_minor": 0
      },
      "text/plain": [
       "SUBMITTING | :   0%|          | 0/143 [00:00<?, ?it/s]"
      ]
     },
     "metadata": {},
     "output_type": "display_data"
    },
    {
     "name": "stdout",
     "output_type": "stream",
     "text": [
      "File SMAP_L3_SSS_20220528_8DAYS_V5.0.nc already downloaded\n",
      "File SMAP_L3_SSS_20220529_8DAYS_V5.0.nc already downloaded\n",
      "File SMAP_L3_SSS_20220531_8DAYS_V5.0.nc already downloaded\n",
      "File SMAP_L3_SSS_20220530_8DAYS_V5.0.nc already downloaded\n",
      "File SMAP_L3_SSS_20220601_8DAYS_V5.0.nc already downloaded\n",
      "File SMAP_L3_SSS_20220602_8DAYS_V5.0.nc already downloaded\n",
      "File SMAP_L3_SSS_20220603_8DAYS_V5.0.nc already downloaded\n",
      "File SMAP_L3_SSS_20220604_8DAYS_V5.0.nc already downloaded\n",
      "File SMAP_L3_SSS_20220605_8DAYS_V5.0.nc already downloaded\n",
      "File SMAP_L3_SSS_20220606_8DAYS_V5.0.nc already downloaded\n",
      "File SMAP_L3_SSS_20220607_8DAYS_V5.0.nc already downloaded\n",
      "File SMAP_L3_SSS_20220608_8DAYS_V5.0.nc already downloaded\n",
      "File SMAP_L3_SSS_20220609_8DAYS_V5.0.nc already downloaded\n",
      "File SMAP_L3_SSS_20220610_8DAYS_V5.0.nc already downloaded\n",
      "File SMAP_L3_SSS_20220611_8DAYS_V5.0.nc already downloaded\n",
      "File SMAP_L3_SSS_20220612_8DAYS_V5.0.nc already downloaded\n",
      "File SMAP_L3_SSS_20220613_8DAYS_V5.0.nc already downloaded\n",
      "File SMAP_L3_SSS_20220614_8DAYS_V5.0.nc already downloaded\n",
      "File SMAP_L3_SSS_20220615_8DAYS_V5.0.nc already downloaded\n",
      "File SMAP_L3_SSS_20220616_8DAYS_V5.0.nc already downloaded\n",
      "File SMAP_L3_SSS_20220617_8DAYS_V5.0.nc already downloaded\n",
      "File SMAP_L3_SSS_20220618_8DAYS_V5.0.nc already downloaded\n",
      "File SMAP_L3_SSS_20220619_8DAYS_V5.0.nc already downloaded\n",
      "File SMAP_L3_SSS_20220620_8DAYS_V5.0.nc already downloaded\n",
      "File SMAP_L3_SSS_20220621_8DAYS_V5.0.nc already downloaded\n",
      "File SMAP_L3_SSS_20220623_8DAYS_V5.0.nc already downloaded\n",
      "File SMAP_L3_SSS_20220624_8DAYS_V5.0.nc already downloaded\n",
      "File SMAP_L3_SSS_20220627_8DAYS_V5.0.nc already downloaded\n",
      "File SMAP_L3_SSS_20220622_8DAYS_V5.0.nc already downloaded\n",
      "File SMAP_L3_SSS_20220626_8DAYS_V5.0.nc already downloaded\n",
      "File SMAP_L3_SSS_20220628_8DAYS_V5.0.nc already downloaded\n",
      "File SMAP_L3_SSS_20220701_8DAYS_V5.0.nc already downloaded\n",
      "File SMAP_L3_SSS_20220702_8DAYS_V5.0.nc already downloaded\n",
      "File SMAP_L3_SSS_20220703_8DAYS_V5.0.nc already downloaded\n",
      "File SMAP_L3_SSS_20220705_8DAYS_V5.0.nc already downloaded\n",
      "File SMAP_L3_SSS_20220706_8DAYS_V5.0.nc already downloaded\n",
      "File SMAP_L3_SSS_20220707_8DAYS_V5.0.nc already downloaded\n",
      "File SMAP_L3_SSS_20220629_8DAYS_V5.0.nc already downloaded\n",
      "File SMAP_L3_SSS_20220630_8DAYS_V5.0.nc already downloaded\n",
      "File SMAP_L3_SSS_20220625_8DAYS_V5.0.nc already downloaded\n",
      "File SMAP_L3_SSS_20220708_8DAYS_V5.0.nc already downloaded\n",
      "File SMAP_L3_SSS_20220713_8DAYS_V5.0.nc already downloaded\n",
      "File SMAP_L3_SSS_20220714_8DAYS_V5.0.nc already downloaded\n",
      "File SMAP_L3_SSS_20220715_8DAYS_V5.0.nc already downloaded\n",
      "File SMAP_L3_SSS_20220716_8DAYS_V5.0.nc already downloaded\n",
      "File SMAP_L3_SSS_20220710_8DAYS_V5.0.nc already downloaded\n",
      "File SMAP_L3_SSS_20220711_8DAYS_V5.0.nc already downloaded\n",
      "File SMAP_L3_SSS_20220712_8DAYS_V5.0.nc already downloaded\n",
      "File SMAP_L3_SSS_20220704_8DAYS_V5.0.nc already downloaded\n",
      "File SMAP_L3_SSS_20220709_8DAYS_V5.0.nc already downloaded\n",
      "File SMAP_L3_SSS_20220723_8DAYS_V5.0.nc already downloaded\n",
      "File SMAP_L3_SSS_20220724_8DAYS_V5.0.nc already downloaded\n",
      "File SMAP_L3_SSS_20220725_8DAYS_V5.0.nc already downloaded\n",
      "File SMAP_L3_SSS_20220726_8DAYS_V5.0.nc already downloaded\n",
      "File SMAP_L3_SSS_20220721_8DAYS_V5.0.nc already downloaded\n",
      "File SMAP_L3_SSS_20220728_8DAYS_V5.0.nc already downloaded\n",
      "File SMAP_L3_SSS_20220729_8DAYS_V5.0.nc already downloaded\n",
      "File SMAP_L3_SSS_20220730_8DAYS_V5.0.nc already downloaded\n",
      "File SMAP_L3_SSS_20220717_8DAYS_V5.0.nc already downloaded\n",
      "File SMAP_L3_SSS_20220718_8DAYS_V5.0.nc already downloaded\n",
      "File SMAP_L3_SSS_20220719_8DAYS_V5.0.nc already downloaded\n",
      "File SMAP_L3_SSS_20220720_8DAYS_V5.0.nc already downloaded\n",
      "File SMAP_L3_SSS_20220727_8DAYS_V5.0.nc already downloaded\n",
      "File SMAP_L3_SSS_20220722_8DAYS_V5.0.nc already downloaded\n",
      "File SMAP_L3_SSS_20220807_8DAYS_V5.0.nc already downloaded\n",
      "File SMAP_L3_SSS_20220808_8DAYS_V5.0.nc already downloaded\n",
      "File SMAP_L3_SSS_20220809_8DAYS_V5.0.nc already downloaded\n",
      "File SMAP_L3_SSS_20220810_8DAYS_V5.0.nc already downloaded\n",
      "File SMAP_L3_SSS_20220804_8DAYS_V5.0.nc already downloaded\n",
      "File SMAP_L3_SSS_20220805_8DAYS_V5.0.nc already downloaded\n",
      "File SMAP_L3_SSS_20220813_8DAYS_V5.0.nc already downloaded\n",
      "File SMAP_L3_SSS_20220806_8DAYS_V5.0.nc already downloaded\n",
      "File SMAP_L3_SSS_20220731_8DAYS_V5.0.nc already downloaded\n",
      "File SMAP_L3_SSS_20220801_8DAYS_V5.0.nc already downloaded\n",
      "File SMAP_L3_SSS_20220817_8DAYS_V5.0.nc already downloaded\n",
      "File SMAP_L3_SSS_20220818_8DAYS_V5.0.nc already downloaded\n",
      "File SMAP_L3_SSS_20220819_8DAYS_V5.0.nc already downloaded\n",
      "File SMAP_L3_SSS_20220820_8DAYS_V5.0.nc already downloaded\n",
      "File SMAP_L3_SSS_20220821_8DAYS_V5.0.nc already downloaded\n",
      "File SMAP_L3_SSS_20220822_8DAYS_V5.0.nc already downloaded\n",
      "File SMAP_L3_SSS_20220823_8DAYS_V5.0.nc already downloaded\n",
      "File SMAP_L3_SSS_20220816_8DAYS_V5.0.nc already downloaded\n",
      "File SMAP_L3_SSS_20220802_8DAYS_V5.0.nc already downloaded\n",
      "File SMAP_L3_SSS_20220803_8DAYS_V5.0.nc already downloaded\n",
      "File SMAP_L3_SSS_20220811_8DAYS_V5.0.nc already downloaded\n",
      "File SMAP_L3_SSS_20220812_8DAYS_V5.0.nc already downloaded\n",
      "File SMAP_L3_SSS_20220814_8DAYS_V5.0.nc already downloaded\n",
      "File SMAP_L3_SSS_20220815_8DAYS_V5.0.nc already downloaded\n",
      "File SMAP_L3_SSS_20220824_8DAYS_V5.0.nc already downloaded\n",
      "File SMAP_L3_SSS_20220825_8DAYS_V5.0.nc already downloaded\n",
      "File SMAP_L3_SSS_20220826_8DAYS_V5.0.nc already downloaded\n",
      "File SMAP_L3_SSS_20220903_8DAYS_V5.0.nc already downloaded\n",
      "File SMAP_L3_SSS_20220904_8DAYS_V5.0.nc already downloaded\n",
      "File SMAP_L3_SSS_20220905_8DAYS_V5.0.nc already downloaded\n",
      "File SMAP_L3_SSS_20220906_8DAYS_V5.0.nc already downloaded\n",
      "File SMAP_L3_SSS_20220830_8DAYS_V5.0.nc already downloaded\n",
      "File SMAP_L3_SSS_20220831_8DAYS_V5.0.nc already downloaded\n",
      "File SMAP_L3_SSS_20220901_8DAYS_V5.0.nc already downloaded\n",
      "File SMAP_L3_SSS_20220902_8DAYS_V5.0.nc already downloaded\n",
      "File SMAP_L3_SSS_20220827_8DAYS_V5.0.nc already downloaded\n",
      "File SMAP_L3_SSS_20220828_8DAYS_V5.0.nc already downloaded\n",
      "File SMAP_L3_SSS_20220829_8DAYS_V5.0.nc already downloaded\n",
      "File SMAP_L3_SSS_20220914_8DAYS_V5.0.nc already downloaded\n",
      "File SMAP_L3_SSS_20220915_8DAYS_V5.0.nc already downloaded\n",
      "File SMAP_L3_SSS_20220916_8DAYS_V5.0.nc already downloaded\n",
      "File SMAP_L3_SSS_20220917_8DAYS_V5.0.nc already downloaded\n",
      "File SMAP_L3_SSS_20220918_8DAYS_V5.0.nc already downloaded\n",
      "File SMAP_L3_SSS_20220919_8DAYS_V5.0.nc already downloaded\n",
      "File SMAP_L3_SSS_20220920_8DAYS_V5.0.nc already downloaded\n",
      "File SMAP_L3_SSS_20220913_8DAYS_V5.0.nc already downloaded\n",
      "File SMAP_L3_SSS_20220907_8DAYS_V5.0.nc already downloaded\n",
      "File SMAP_L3_SSS_20220908_8DAYS_V5.0.nc already downloaded\n",
      "File SMAP_L3_SSS_20220909_8DAYS_V5.0.nc already downloaded\n",
      "File SMAP_L3_SSS_20220910_8DAYS_V5.0.nc already downloaded\n",
      "File SMAP_L3_SSS_20220911_8DAYS_V5.0.nc already downloaded\n",
      "File SMAP_L3_SSS_20220912_8DAYS_V5.0.nc already downloaded\n",
      "File SMAP_L3_SSS_20220921_8DAYS_V5.0.nc already downloaded\n",
      "File SMAP_L3_SSS_20220922_8DAYS_V5.0.nc already downloaded\n",
      "File SMAP_L3_SSS_20220924_8DAYS_V5.0.nc already downloaded\n",
      "File SMAP_L3_SSS_20220925_8DAYS_V5.0.nc already downloaded\n",
      "File SMAP_L3_SSS_20220926_8DAYS_V5.0.nc already downloaded\n",
      "File SMAP_L3_SSS_20220927_8DAYS_V5.0.nc already downloaded\n",
      "File SMAP_L3_SSS_20220928_8DAYS_V5.0.nc already downloaded\n",
      "File SMAP_L3_SSS_20220929_8DAYS_V5.0.nc already downloaded\n",
      "File SMAP_L3_SSS_20220930_8DAYS_V5.0.nc already downloaded\n",
      "File SMAP_L3_SSS_20220923_8DAYS_V5.0.nc already downloaded\n",
      "File SMAP_L3_SSS_20221008_8DAYS_V5.0.nc already downloaded\n",
      "File SMAP_L3_SSS_20221001_8DAYS_V5.0.nc already downloaded\n",
      "File SMAP_L3_SSS_20221002_8DAYS_V5.0.nc already downloaded\n",
      "File SMAP_L3_SSS_20221003_8DAYS_V5.0.nc already downloaded\n",
      "File SMAP_L3_SSS_20221004_8DAYS_V5.0.nc already downloaded\n",
      "File SMAP_L3_SSS_20221006_8DAYS_V5.0.nc already downloaded\n",
      "File SMAP_L3_SSS_20221007_8DAYS_V5.0.nc already downloaded\n",
      "File SMAP_L3_SSS_20221015_8DAYS_V5.0.nc already downloaded\n",
      "File SMAP_L3_SSS_20221009_8DAYS_V5.0.nc already downloaded\n",
      "File SMAP_L3_SSS_20221010_8DAYS_V5.0.nc already downloaded\n",
      "File SMAP_L3_SSS_20221011_8DAYS_V5.0.nc already downloaded\n",
      "File SMAP_L3_SSS_20221012_8DAYS_V5.0.nc already downloaded\n",
      "File SMAP_L3_SSS_20221014_8DAYS_V5.0.nc already downloaded\n",
      "File SMAP_L3_SSS_20221013_8DAYS_V5.0.nc already downloaded\n",
      "File SMAP_L3_SSS_20221016_8DAYS_V5.0.nc already downloaded\n",
      "File SMAP_L3_SSS_20221017_8DAYS_V5.0.nc already downloaded\n",
      "File SMAP_L3_SSS_20221018_8DAYS_V5.0.nc already downloaded\n"
     ]
    },
    {
     "data": {
      "application/vnd.jupyter.widget-view+json": {
       "model_id": "8d59943ad9d84a35bc57648ef4a0b716",
       "version_major": 2,
       "version_minor": 0
      },
      "text/plain": [
       "PROCESSING | :   0%|          | 0/143 [00:00<?, ?it/s]"
      ]
     },
     "metadata": {},
     "output_type": "display_data"
    },
    {
     "data": {
      "application/vnd.jupyter.widget-view+json": {
       "model_id": "0bb138681bcc4245854f8f85763197a6",
       "version_major": 2,
       "version_minor": 0
      },
      "text/plain": [
       "COLLECTING | :   0%|          | 0/143 [00:00<?, ?it/s]"
      ]
     },
     "metadata": {},
     "output_type": "display_data"
    }
   ],
   "source": [
    "store = Store(auth)\n",
    "files = store.get(results, \"../data/SMAP/\")"
   ]
  },
  {
   "cell_type": "code",
   "execution_count": 45,
   "id": "6f424267-5346-421d-aef2-290ded150e32",
   "metadata": {},
   "outputs": [
    {
     "name": "stdout",
     "output_type": "stream",
     "text": [
      "Granules found: 137\n"
     ]
    }
   ],
   "source": [
    "results = earthaccess.search_data(\n",
    "    short_name = \"GPM_3IMERGDL\",\n",
    "    cloud_hosted = True, \n",
    "    bounding_box = (-65.5,-30,-5.5,15),\n",
    "    temporal = (\"2022-06\", \"2022-10-15\"),\n",
    "    count=200\n",
    ")"
   ]
  },
  {
   "cell_type": "code",
   "execution_count": 48,
   "id": "43c537b2-a567-4e0c-a132-bb21c2a50383",
   "metadata": {},
   "outputs": [
    {
     "name": "stdout",
     "output_type": "stream",
     "text": [
      "128 files and 15 to be donwloaded\n",
      " Getting 143 granules, approx download size: 1.1 GB\n"
     ]
    },
    {
     "data": {
      "application/vnd.jupyter.widget-view+json": {
       "model_id": "3da8b399ce894539a5baa86e820a1e7b",
       "version_major": 2,
       "version_minor": 0
      },
      "text/plain": [
       "SUBMITTING | :   0%|          | 0/143 [00:00<?, ?it/s]"
      ]
     },
     "metadata": {},
     "output_type": "display_data"
    },
    {
     "data": {
      "application/vnd.jupyter.widget-view+json": {
       "model_id": "6a20f71f532f45b5b395b561c951ca63",
       "version_major": 2,
       "version_minor": 0
      },
      "text/plain": [
       "PROCESSING | :   0%|          | 0/143 [00:00<?, ?it/s]"
      ]
     },
     "metadata": {},
     "output_type": "display_data"
    },
    {
     "data": {
      "application/vnd.jupyter.widget-view+json": {
       "model_id": "a9d4ccef9e254d71bf21e44ae9aecd1f",
       "version_major": 2,
       "version_minor": 0
      },
      "text/plain": [
       "COLLECTING | :   0%|          | 0/143 [00:00<?, ?it/s]"
      ]
     },
     "metadata": {},
     "output_type": "display_data"
    }
   ],
   "source": [
    "nfiles = len(glob(\"../data/IMERG/*\"))\n",
    "print(f\"{nfiles} files and {len(results)-nfiles} to be donwloaded\")\n",
    "if len(results)>nfiles:\n",
    "    store = Store(auth)\n",
    "    files = store.get(results, \"../data/IMERG/\")"
   ]
  },
  {
   "cell_type": "code",
   "execution_count": null,
   "id": "ea89659f-b6af-4ab1-8b43-2bd994a5a8b0",
   "metadata": {},
   "outputs": [],
   "source": []
  }
 ],
 "metadata": {
  "kernelspec": {
   "display_name": "coringa",
   "language": "python",
   "name": "coringa"
  },
  "language_info": {
   "codemirror_mode": {
    "name": "ipython",
    "version": 3
   },
   "file_extension": ".py",
   "mimetype": "text/x-python",
   "name": "python",
   "nbconvert_exporter": "python",
   "pygments_lexer": "ipython3",
   "version": "3.9.15"
  }
 },
 "nbformat": 4,
 "nbformat_minor": 5
}
